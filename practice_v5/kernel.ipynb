{
  "cells": [
    {
      "metadata": {
        "_uuid": "8f2839f25d086af736a60e9eeb907d3b93b6e0e5",
        "_cell_guid": "b1076dfc-b9ad-4769-8c92-a6c4dae69d19",
        "trusted": true
      },
      "cell_type": "code",
      "source": "# This Python 3 environment comes with many helpful analytics libraries installed\n# It is defined by the kaggle/python docker image: https://github.com/kaggle/docker-python\n# For example, here's several helpful packages to load in \n\nimport numpy as np # linear algebra\nimport pandas as pd # data processing, CSV file I/O (e.g. pd.read_csv)\n\n# Input data files are available in the \"../input/\" directory.\n# For example, running this (by clicking run or pressing Shift+Enter) will list the files in the input directory\n\nimport os\nprint(os.listdir(\"../input/atis\"))\n\n\n# Any results you write to the current directory are saved as output.",
      "execution_count": null,
      "outputs": []
    },
    {
      "metadata": {
        "_cell_guid": "79c7e3d0-c299-4dcb-8224-4455121ee9b0",
        "collapsed": true,
        "_uuid": "d629ff2d2480ee46fbb7e2d37f6b5fab8052498a",
        "trusted": true
      },
      "cell_type": "code",
      "source": "import pickle\n\nDATA_DIR=\"../input/atis\"\n\ndef load_ds(fname='atis.train.pkl'):\n    with open(fname, 'rb') as stream:\n        ds,dicts = pickle.load(stream)\n    print('Done  loading: ', fname)\n    print('      samples: {:4d}'.format(len(ds['query'])))\n    print('   vocab_size: {:4d}'.format(len(dicts['token_ids'])))\n    print('   slot count: {:4d}'.format(len(dicts['slot_ids'])))\n    print(' intent count: {:4d}'.format(len(dicts['intent_ids'])))\n    return ds,dicts",
      "execution_count": null,
      "outputs": []
    },
    {
      "metadata": {
        "_uuid": "76d15c0334726765bc4a3cffbe2e1e682af333d0"
      },
      "cell_type": "markdown",
      "source": "# Load ATIS Dataset"
    },
    {
      "metadata": {
        "trusted": true,
        "_uuid": "5a78b50f452f13a326b3ebcc485c93de83d6819f",
        "scrolled": false
      },
      "cell_type": "code",
      "source": "train_ds, dicts = load_ds(os.path.join(DATA_DIR,'atis.train.pkl'))\ntest_ds, dicts  = load_ds(os.path.join(DATA_DIR,'atis.test.pkl'))",
      "execution_count": null,
      "outputs": []
    },
    {
      "metadata": {
        "trusted": true,
        "collapsed": true,
        "_uuid": "d6b5ee8accdd6c0a0c15ac13f7c0113974da86ef"
      },
      "cell_type": "markdown",
      "source": "# Show first few samples"
    },
    {
      "metadata": {
        "trusted": true,
        "_uuid": "9e9c5e179960c912d587454d88bf5a434f0045b4"
      },
      "cell_type": "code",
      "source": "t2i, s2i, in2i = map(dicts.get, ['token_ids', 'slot_ids','intent_ids'])\ni2t, i2s, i2in = map(lambda d: {d[k]:k for k in d.keys()}, [t2i,s2i,in2i])\nquery, slots, intent =  map(train_ds.get, ['query', 'slot_labels', 'intent_labels'])\n\nfor i in range(5):\n    print('{:4d}:{:>15}: {}'.format(i, i2in[intent[i][0]],\n                                    ' '.join(map(i2t.get, query[i]))))\n    for j in range(len(query[i])):\n        print('{:>33} {:>40}'.format(i2t[query[i][j]],\n                                     i2s[slots[i][j]]  ))\n    print('*'*74)",
      "execution_count": null,
      "outputs": []
    },
    {
      "metadata": {
        "trusted": true,
        "collapsed": true,
        "_uuid": "9e0d95bad4cdcf0495f4d48d15ccf7bb3a37aa0a"
      },
      "cell_type": "code",
      "source": "",
      "execution_count": null,
      "outputs": []
    }
  ],
  "metadata": {
    "kernelspec": {
      "display_name": "Python 3",
      "language": "python",
      "name": "python3"
    },
    "language_info": {
      "name": "python",
      "version": "3.6.6",
      "mimetype": "text/x-python",
      "codemirror_mode": {
        "name": "ipython",
        "version": 3
      },
      "pygments_lexer": "ipython3",
      "nbconvert_exporter": "python",
      "file_extension": ".py"
    }
  },
  "nbformat": 4,
  "nbformat_minor": 1
}